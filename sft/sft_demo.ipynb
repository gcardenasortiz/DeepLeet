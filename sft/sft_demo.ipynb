{
 "cells": [
  {
   "cell_type": "code",
   "execution_count": 4,
   "metadata": {},
   "outputs": [
    {
     "name": "stdout",
     "output_type": "stream",
     "text": [
      "🦥 Unsloth: Will patch your computer to enable 2x faster free finetuning.\n"
     ]
    },
    {
     "name": "stderr",
     "output_type": "stream",
     "text": [
      "e:\\miniconda3\\envs\\unsloth_env\\Lib\\site-packages\\tqdm\\auto.py:21: TqdmWarning: IProgress not found. Please update jupyter and ipywidgets. See https://ipywidgets.readthedocs.io/en/stable/user_install.html\n",
      "  from .autonotebook import tqdm as notebook_tqdm\n"
     ]
    },
    {
     "name": "stdout",
     "output_type": "stream",
     "text": [
      "🦥 Unsloth Zoo will now patch everything to make training faster!\n"
     ]
    }
   ],
   "source": [
    "from unsloth import FastLanguageModel\n",
    "import torch"
   ]
  },
  {
   "cell_type": "code",
   "execution_count": 5,
   "metadata": {},
   "outputs": [],
   "source": [
    "max_seq_length = 2048 # Choose any! We auto support RoPE Scaling internally!\n",
    "dtype = None # None for auto detection. Float16 for Tesla T4, V100, Bfloat16 for Ampere+\n",
    "load_in_4bit = True # Use 4bit quantization to reduce memory usage. Can be False."
   ]
  },
  {
   "cell_type": "code",
   "execution_count": 6,
   "metadata": {},
   "outputs": [
    {
     "name": "stderr",
     "output_type": "stream",
     "text": [
      "e:\\miniconda3\\envs\\unsloth_env\\Lib\\site-packages\\unsloth_zoo\\gradient_checkpointing.py:330: UserWarning: expandable_segments not supported on this platform (Triggered internally at C:\\actions-runner\\_work\\pytorch\\pytorch\\pytorch\\c10/cuda/CUDAAllocatorConfig.h:28.)\n",
      "  GPU_BUFFERS = tuple([torch.empty(2*256*2048, dtype = dtype, device = f\"cuda:{i}\") for i in range(n_gpus)])\n"
     ]
    },
    {
     "name": "stdout",
     "output_type": "stream",
     "text": [
      "==((====))==  Unsloth 2025.3.14: Fast Llama patching. Transformers: 4.49.0.\n",
      "   \\\\   /|    NVIDIA GeForce RTX 4080 SUPER. Num GPUs = 1. Max memory: 15.992 GB. Platform: Windows.\n",
      "O^O/ \\_/ \\    Torch: 2.6.0+cu124. CUDA: 8.9. CUDA Toolkit: 12.4. Triton: 3.2.0\n",
      "\\        /    Bfloat16 = TRUE. FA [Xformers = 0.0.29.post3. FA2 = False]\n",
      " \"-____-\"     Free license: http://github.com/unslothai/unsloth\n",
      "Unsloth: Fast downloading is enabled - ignore downloading bars which are red colored!\n"
     ]
    }
   ],
   "source": [
    "model, tokenizer = FastLanguageModel.from_pretrained(\n",
    "    model_name = \"unsloth/DeepSeek-R1-Distill-Llama-8B-unsloth-bnb-4bit\",\n",
    "    max_seq_length = max_seq_length,\n",
    "    dtype = dtype,\n",
    "    load_in_4bit = load_in_4bit,\n",
    "    # token = \"hf_...\", # use one if using gated models like meta-llama/Llama-2-7b-hf\n",
    ")"
   ]
  },
  {
   "cell_type": "code",
   "execution_count": 17,
   "metadata": {},
   "outputs": [],
   "source": [
    "alpaca_prompt = \"\"\"Below is a programming problem that requires you to write a function that outputs the correct answer. Answers are after a \"###Response:\" tag, and only output the code. No explanation is necessary.\n",
    "\n",
    "### Problem:\n",
    "{}\n",
    "\n",
    "### Thought:\n",
    "{}\n",
    "\"\"\"\n",
    "EOS_TOKEN = tokenizer.eos_token # Must add EOS_TOKEN"
   ]
  },
  {
   "cell_type": "code",
   "execution_count": 18,
   "metadata": {},
   "outputs": [
    {
     "name": "stdout",
     "output_type": "stream",
     "text": [
      "<｜begin▁of▁sentence｜>Below is a programming problem that requires you to write a function that outputs the correct answer. Answers are after a \"###Response:\" tag, and only output the code. No explanation is necessary.\n",
      "\n",
      "### Problem:\n",
      "Given an array of integers nums and an integer target, return indices of the two numbers such that they add up to target.  You may assume that each input would have exactly one solution, and you may not use the same element twice.  You can return the answer in any order.\n",
      "\n",
      "### Thought:\n",
      "\n",
      "Wait, so the problem is to find two distinct elements in the array that add up to the target. And I need to return their indices. Hmm.\n",
      "\n",
      "But the problem says, \"you may assume that each input would have exactly one solution.\" So I don't have to worry about multiple possibilities or no solution.\n",
      "\n",
      "So how do I approach this? Well, one straightforward way is to loop through the array and for each element, check if the complement (target - current element) exists in the array. But then I need to make sure that I don't count the same element twice and that I return their indices.\n",
      "\n",
      "Wait, but what about the indices? I need to return the indices of the two numbers, regardless of their order.\n",
      "\n",
      "So here's an idea: loop through each element in the array, for each element nums[i], check if (target - nums[i]) is present in the array. Once I find such an element, I can get its index, j, and then return [i, j] or [j, i], since the order doesn't matter.\n",
      "\n",
      "But wait, what if the same element is considered as two different indices? Like, if the array has duplicates. For example, nums = [1, 4, 3, 2, 3], target = 5. So 1 and 4 add up to 5, and 3 and 2 add up to 5. So in this case, the function should return [0,3], or [3,0], or [0,4], [4,3], etc. But according to the problem statement, the input will have exactly one solution, so I think the function can return any correct pair of indices.\n",
      "\n",
      "But wait, the problem says, \"You may not use the same element twice.\" So the two indices must be different, but the values can be same if the array has duplicates.\n",
      "\n",
      "So, in the code, I need to make sure that when I find the complement, it's in a different index.\n",
      "\n",
      "So, perhaps the approach is:\n",
      "\n",
      "- Iterate through each element in nums, using index i.\n",
      "\n",
      "- For each element, compute complement = target - nums[i].\n",
      "\n",
      "- Then, check if the complement is present in nums, and the index j of the complement is not equal to i.\n",
      "\n",
      "- Once such a j is found, return [i, j].\n",
      "\n",
      "But wait, what if the same element is present multiple times? For example, nums = [1, 2, 3, 4, 5], target = 6. So 1 and 5 are a pair, and 2 and 4 are a pair. So in this case, the function could return [0,4] or [1,3]. But according to the problem, each input has exactly one solution, which implies that the correct pair is unique.\n",
      "\n",
      "So in our code, once we find the first occurrence where the complement exists, we can return it.\n",
      "\n",
      "But wait, what if the same element is used twice, but in different indices? For example, nums = [1, -1, 3], target = 0. Here, 1 and -1 are in different indices and add up to 0. So the function should return [0,1].\n",
      "\n",
      "But in the code, when i is 0, the complement is -1, which is found at index 1. So we return [0,1], which is correct.\n",
      "\n",
      "So, the approach seems solid.\n",
      "\n",
      "So, in Python, the steps are:\n",
      "\n",
      "- Iterate over each index i in the nums array.\n",
      "\n",
      "- For each i, compute complement = target - nums[i].\n",
      "\n",
      "- Check if complement is in nums.\n",
      "\n",
      "- If it is, then find the index j where nums[j] is equal to complement.\n",
      "\n",
      "- If j is not equal to i, then return [i, j].\n",
      "\n",
      "But wait, in Python, checking if an element is in a list is O(n) time. So for each i, we may be doing O(n) operations. So overall, the time complexity is O(n^2). But for the problem constraints, if the input is large, say up to 1e5 elements, this approach would be too slow. However, the problem doesn't specify the constraints, but in coding challenges, sometimes the input size is manageable.\n",
      "\n",
      "But assuming the input is manageable, the code can proceed.\n",
      "\n",
      "Alternatively, to optimize, we can create a dictionary to map each value to its index. That way, checking for the existence of the complement is O(1), and finding the index is also O(1). Then, for each i, compute the complement, check if it exists in the dictionary, and if the index is different from i.\n",
      "\n",
      "This would reduce the time complexity to O(n).\n",
      "\n",
      "So, the steps are:\n",
      "\n",
      "- Create a dictionary, value_to_index, which maps each value in nums to its first occurrence index.\n",
      "\n",
      "- Then, for each index i in nums:\n",
      "\n",
      "   - compute complement = target - nums[i]\n",
      "\n",
      "   - if complement is in value_to_index:\n",
      "\n",
      "      - j = value_to_index[complement]\n",
      "\n",
      "      - if j != i:\n",
      "\n",
      "          return [i, j]\n",
      "\n",
      "But wait, what if the complement is same as nums[i]? For example, nums = [2, 2], target = 4. So for i=0, complement is 2, which is at index 1. So j=1 != i=0, so return [0,1], which is correct.\n",
      "\n",
      "Another example: nums = [1,3,5,7], target=8. 3 and 5 add to 8. So when i=1, nums[i] is 3, complement is 5, which is at index 2. So return [1,2].\n",
      "\n",
      "So this approach should work.\n",
      "\n",
      "But what about the case where the same element is used twice, but in different positions, and it's the only pair? For example, nums = [0, 0], target=0. So for i=0, complement is 0, which is at index 1. So return [0,1], which is correct.\n",
      "\n",
      "So, the code would be:\n",
      "\n",
      "def two_sum(nums, target):\n",
      "    value_to_index = {num: idx for idx, num in enumerate(nums)}\n",
      "    for i in range(len(nums)):\n",
      "        complement = target - nums[i]\n",
      "        if complement in value_to_index:\n",
      "            j = value_to_index[complement]\n",
      "            if j != i:\n",
      "                return [i, j]\n",
      "    return None  # According to problem statement, this line shouldn't be reached.\n",
      "\n",
      "Wait, but in the problem statement, it's said that each input will have exactly one solution, so the function can return any correct pair.\n",
      "\n",
      "But in the code above, it returns the first occurrence where the complement is found. So in cases where multiple pairs exist, it returns the first one in the array.\n",
      "\n",
      "So, for example, if nums = [1, 4, 3, 2], target=5. The first pair is (1,4) at indices 0 and 1. So the code returns [0,1].\n",
      "\n",
      "But another possible pair is (3,2) at indices 2 and 3. So the code doesn't return that, but that's okay because the problem says any correct answer is acceptable.\n",
      "\n",
      "So, the code is correct.\n",
      "\n",
      "Testing this code with the examples:\n",
      "\n",
      "Test case 1:\n",
      "\n",
      "nums = [1,2,3,4,5], target=6.\n",
      "\n",
      "The code will check for i=0, complement is 5, which is at index 4. So return [0,4].\n",
      "\n",
      "Test case 2:\n",
      "\n",
      "nums = [1, -1, 3], target=0.\n",
      "\n",
      "For i=0, complement is -1, which is at index 1. So return [0,1].\n",
      "\n",
      "Another test case:\n",
      "\n",
      "nums = [3, 1, 2], target=3.\n",
      "\n",
      "i=0, nums[i]=3, complement is 0. Not in the array. So move on.\n",
      "\n",
      "i=1, nums[i]=1, complement is 2, which is at index 2. So return [1,2].\n",
      "\n",
      "Yes, correct.\n",
      "\n",
      "So, the code seems to handle all cases.\n",
      "\n",
      "Now, to write the function accordingly.\n",
      "</think>\n",
      "\n",
      "To solve this problem, we need to find two distinct elements in an array that add up to a given target value. The solution should return the indices of these two elements. The problem guarantees that there will be exactly one valid solution, so we don't need to handle multiple possibilities or no solution cases.\n",
      "\n",
      "### Approach\n",
      "1. **Problem Analysis**: The task is to identify two elements in the array whose sum equals the target. Each element can be used only once, and the indices of these elements should be returned.\n",
      "2. **Intuition**: We can efficiently solve this problem by using a dictionary to map each value to its first occurrence index. This allows us to quickly check if the complement of the current element (target minus the current element) exists in the array and retrieve its index in constant time.\n",
      "3. **Algorithm Selection**: Using a dictionary to store value-to-index mappings ensures that checking for the existence of the complement and retrieving its index are both O(1) operations. This makes the overall time complexity O(n), which is efficient for large arrays.\n",
      "4. **Complexity Analysis**: The solution involves iterating through the array once to build the dictionary and then another iteration to find the complement, resulting in a total time complexity of O(n).\n",
      "\n",
      "### Solution Code\n",
      "```python\n",
      "def two_sum(nums, target):\n",
      "    value_to_index = {num: idx for idx, num in enumerate(nums)}\n",
      "    for i in range(len(nums)):\n",
      "        complement = target - nums[i]\n",
      "        if complement in value_to_index:\n",
      "            j = value_to_index[complement]\n",
      "            if j != i:\n",
      "                return [i, j]\n",
      "    return []  # According to problem statement, this line is not reached.\n",
      "```\n",
      "\n",
      "### Explanation\n",
      "1. **Dictionary Creation**: We first create a dictionary where each value in the array maps to its index. This helps in quickly checking the presence of the complement of any element.\n",
      "2. **Iteration and Complement Check**: For each element in the array, we compute the complement needed to reach the target sum. If this complement exists in the dictionary, we check if it is at a different index than the current element.\n",
      "3. **Return Indices**: Once a valid pair is found, we return the indices of the two elements. The problem guarantees that there will be exactly one valid solution, so the function will always return a pair before completing the loop.\n",
      "\n",
      "This approach efficiently finds the required indices with minimal time complexity, ensuring optimal performance even for larger arrays.<｜end▁of▁sentence｜>\n"
     ]
    }
   ],
   "source": [
    "# alpaca_prompt = Copied from above\n",
    "FastLanguageModel.for_inference(model) # Enable native 2x faster inference\n",
    "inputs = tokenizer(\n",
    "[\n",
    "    alpaca_prompt.format(\n",
    "        \"Given an array of integers nums and an integer target, return indices of the two numbers such that they add up to target.  You may assume that each input would have exactly one solution, and you may not use the same element twice.  You can return the answer in any order.\", # instruction\n",
    "        \"\", # input\n",
    "        \"\", # output - leave this blank for generation!\n",
    "    )\n",
    "], return_tensors = \"pt\").to(\"cuda\")\n",
    "\n",
    "from transformers import TextStreamer\n",
    "text_streamer = TextStreamer(tokenizer)\n",
    "_ = model.generate(**inputs, streamer = text_streamer, max_new_tokens = 4096)"
   ]
  }
 ],
 "metadata": {
  "kernelspec": {
   "display_name": "unsloth_env",
   "language": "python",
   "name": "python3"
  },
  "language_info": {
   "codemirror_mode": {
    "name": "ipython",
    "version": 3
   },
   "file_extension": ".py",
   "mimetype": "text/x-python",
   "name": "python",
   "nbconvert_exporter": "python",
   "pygments_lexer": "ipython3",
   "version": "3.11.11"
  }
 },
 "nbformat": 4,
 "nbformat_minor": 2
}
